{
 "cells": [
  {
   "cell_type": "code",
   "execution_count": null,
   "metadata": {},
   "outputs": [],
   "source": [
    "import aplpy\n",
    "from os import system\n",
    "import ds9cmap\n",
    "import disk_images_panel as prettyplot\n",
    "import disk_images_wmom0 as prettymom\n",
    "import disk_images_wmom0_2s as prettymom2"
   ]
  },
  {
   "cell_type": "code",
   "execution_count": null,
   "metadata": {},
   "outputs": [],
   "source": [
    "iname         =  # input name of continuum\n",
    "oname         =  # output name of continuum  (no moment)\n",
    "cra           =  # ra of source (deg)\n",
    "cdec          =  # dec or source (deg)\n",
    "lpix          =  # lower pixel flux value\n",
    "upix          =  # upper pixel flux value\n",
    "sizearc       =  # size of output image in arcsec\n",
    "scale         =  # size of scalebar arcsec\n",
    "dist          =  # distance to source parsec\n",
    "label         =  # continuum image title\n",
    "posang        =  # outflow position angle\n",
    "plotang       =  # plot outflow vectors (y/n)\n",
    "sigma         =  # noise level of image\n",
    "plotcont      =  # plot contours (y/n)\n",
    "posans        =  # show source position little triangles (y/n)\n",
    "colorstretch  =  # color stretch (linear,sqrt,log)\n",
    "colgrey       =  # colour map or grayscale (colour,gray)\n",
    "colormap      =  # color map specifier (ds9bb,viridian)\n",
    "plotlabel     =  # Secondary title position\n",
    "textcolor     =  # colour of text\n",
    "redimage      =  # input name of red velocity side\n",
    "redstart      =  # contour level start (int)\n",
    "redinterval   =  # contour level skip (int)\n",
    "rednoise      =  # noise level of image\n",
    "showredimage  =  # show red contours (y/n)\n",
    "blueimage     =  # input name of blue velocity side\n",
    "bluestart     =  # contour level start (int)\n",
    "blueinterval  =  # contour level skip (int)\n",
    "bluenoise     =  # noise level of image\n",
    "showblueimage =  # show blue contours (y/n)\n",
    "nname         =  # output name of contour pretty image w/ ext\n",
    "plotlabel2    =  # Plot title for contour plot\n",
    "momcolor      =  # colour map or grayscale (colour,gray)\n",
    "momtxtcolor   =  # colour of text\n",
    "sourcera1     =  # ra of 1source outflow (deg)\n",
    "sourcedec1    =  # dec of 1source outflow (deg)\n",
    "sourcera2     =  # ra of 2source outflow (deg)\n",
    "sourcedec2    =  # dec of 2source outflow (deg)\n",
    "posang1       =  # position angle of 1source outflow\n",
    "posang2       =  # position angle of 2source outflow\n",
    "\n",
    "assert nname[-3:] == oname[-3:]\n",
    "extension = nname[-3:] # extension for all outputs MUST BE IDENTICAL"
   ]
  },
  {
   "cell_type": "code",
   "execution_count": null,
   "metadata": {},
   "outputs": [],
   "source": [
    "system('rm -f {} {}'.format(oname,nname))\n",
    "outputs = [oname,nname]\n",
    "if  plotcont == 'n':\n",
    "    prettyplot.main(iname,oname,cra,cdec,lpix,upix,sizearc,scale,dist\\\n",
    "                    label,posang,plotang,sigma,plotcont,posans,\\\n",
    "                    colorstretch,colorgrey,colormap,plotlabel,\\\n",
    "                    textcolor,extension)\n",
    "elif plotcont == 'y':\n",
    "    prettymom.main(iname,oname,cra,cdec,lpix,upix,sizearc,scale,dist\\\n",
    "                   label,posang,plotang,sigma,plotcont,posans,\\\n",
    "                   colorstretch,redimage,redstart,redinterval,rednoise,\\\n",
    "                   showredimage,blueimage,bluestart,blueinterval,\\\n",
    "                   bluenoise,showblueimage,colorgrey,colormap,\\\n",
    "                   plotlabel2,textcolor,extension)\n",
    "if plotang == 'y':\n",
    "    oname = '{}_outflow.{}'.format(oname[-4:],extension)\n",
    "    nname = '{}_outflow.{}'.format(nname[-4:],extension)\n",
    "    outputs.append(oname)\n",
    "    outputs.append(nname)\n",
    "    prettymom2.main(iname,oname,cra,cdec,lpix,upix,sizearc,scale,dist\\\n",
    "                    label,posang,plotang,sigma,plotcont,posans,\\\n",
    "                    colorstretch,redimage,redstart,redinterval,rednoise,\\\n",
    "                    showredimage,blueimage,bluestart,blueinterval,\\\n",
    "                    bluenoise,showblueimage,colorgrey,colormap,\\\n",
    "                    plotlabel2,textcolor,sourcera1,sourcedec1,\\\n",
    "                    sourcera2,sourcedec2,posang1,posang2,extension)\n",
    "print('Plotting finished, made: {}'.format(outputs))"
   ]
  },
  {
   "cell_type": "code",
   "execution_count": null,
   "metadata": {},
   "outputs": [],
   "source": []
  }
 ],
 "metadata": {
  "kernelspec": {
   "display_name": "Python 3",
   "language": "python",
   "name": "python3"
  },
  "language_info": {
   "codemirror_mode": {
    "name": "ipython",
    "version": 3
   },
   "file_extension": ".py",
   "mimetype": "text/x-python",
   "name": "python",
   "nbconvert_exporter": "python",
   "pygments_lexer": "ipython3",
   "version": "3.6.4"
  }
 },
 "nbformat": 4,
 "nbformat_minor": 2
}
