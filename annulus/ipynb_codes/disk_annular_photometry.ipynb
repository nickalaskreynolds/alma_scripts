{
 "metadata": {
  "name": ""
 },
 "nbformat": 3,
 "nbformat_minor": 0,
 "worksheets": [
  {
   "cells": [
    {
     "cell_type": "code",
     "collapsed": false,
     "input": [
      "import numpy as np\n",
      "#import pyfits as fits\n",
      "import math\n",
      "from astropy import wcs\n",
      "from astropy.io import fits\n",
      "import sys\n",
      "import matplotlib as mpl\n",
      "import matplotlib.pyplot as plt\n",
      "from matplotlib.ticker import ScalarFormatter\n",
      "import matplotlib.ticker as ticker\n",
      "\n",
      "\n",
      "%matplotlib inline\n",
      "\n",
      "# %&%&%&%&%&%&%&%&%&%&%&%&%&%&%&%&%&%&%&%&%&%&%&%&%&%&%&%&\n",
      "# CGS PHYSICAL CONSTANTS\n",
      "# %&%&%&%&%&%&%&%&%&%&%&%&%&%&%&%&%&%&%&%&%&%&%&%&%&%&%&%&\n",
      "\n",
      "c = 2.99792458e10       # speed of light CGS\n",
      "h = 6.6260755e-27       # Planck's constant CGS\n",
      "g = 6.67259e-8          # Grav const CGS\n",
      "kb = 1.380658e-16       # Boltzmann's const CGS\n",
      "a = 7.56591e-15         # Radiation constant CGS\n",
      "sb = 5.67051e-5         # sigma (stefan-boltzmann const) CGS\n",
      "qe =  4.803206e-10      # Charge of electron CGS\n",
      "ev =  1.60217733e-12    # Electron volt CGS\n",
      "na =  6.0221367e23      # Avagadro's Number\n",
      "me =  9.1093897e-28     # electron mass CGS\n",
      "mp =  1.6726231e-24     # proton mass CGS\n",
      "mn = 1.674929e-24       # neutron mass CGS\n",
      "mh = 1.673534e-24       # hydrogen mass CGS\n",
      "amu =  1.6605402e-24    # atomic mass unit CGS\n",
      "pi = 3.14159\n",
      "# %&%&%&%&%&%&%&%&%&%&%&%&%&%&%&%&%&%&%&%&%&%&%&%&%&%&%&%&\n",
      "# ASTRONOMICAL CONSTANTS\n",
      "# %&%&%&%&%&%&%&%&%&%&%&%&%&%&%&%&%&%&%&%&%&%&%&%&%&%&%&%&\n",
      "\n",
      "# GENERAL\n",
      "au = 1.496e13           # astronomical unit CGS\n",
      "pc = 3.0857e18          # parsec CGS\n",
      "yr = 3.155815e7         # sidereal year CGS\n",
      "ms = 1.98900e+33        # solar mass CGS\n",
      "rs = 6.9599e10          # sun's radius CGS\n",
      "ls = 3.839e33           # sun's luminosity CGS\n",
      "mm = 7.35000e+25        # moon mass CGS\n",
      "mer = 5.97400e+27       # earth mass CGS\n",
      "rer = 6.378e8           # earth's radius CGS\n",
      "medd = 3.60271e+34      # Eddington mass CGS\n",
      "\n",
      "# RADIO SPECIFIC\n",
      "jy = 1.e-23                  # Jansky CGS\n",
      "restfreq_hi = 1420405751.786 # 21cm transition (Hz)\n",
      "restfreq_co = 115271201800.  # CO J=1-0 (Hz)\n",
      "cm2perkkms_hi = 1.823e18     # HI column per intensity (thin)\n",
      "\n",
      "pa=(90.0-25.0)*3.14159/180.0\n",
      "#pa=(45.0)*3.14159/180.0\n",
      "\n",
      "inc=45.0*3.14159/180.0\n",
      "imagename='Per33_ALMA_cont_robust0.5.image.fits'\n",
      "imagename='Per33_ALMA_cont_robust0.5_subclump.image.fits'\n",
      "rms=1.4e-4\n",
      "hdu = fits.open(imagename)\n",
      "image = np.transpose(np.copy(hdu[0].data))\n",
      "image=np.copy(hdu[0].data)\n",
      "ra=3.426755556*15.0\n",
      "dec=30.754147222\n",
      "header= hdu[0].header\n",
      "w = wcs.WCS(hdu[0].header)\n",
      "    #w.wcs.print_contents()\n",
      "    #pixcrd = numpy.array([[0, 0], [24, 38], [45, 98]], numpy.float_)\n",
      "    #print pixcrd\n",
      "    #pixcrd=np.array([[1000,1000],[1000,1000]])\n",
      "    #world = w.wcs_pix2world(pixcrd, 0)\n",
      "    #print(world)\n",
      "pixscaledeg=header['CDELT2']\n",
      "pixscale=header['CDELT2']*3600\n",
      "bmaj=header['BMAJ']\n",
      "bmin=header['BMIN']\n",
      "npix=header['NAXIS1']\n",
      "freq=header['RESTFRQ']\n",
      "omega=(pi*bmaj*bmin)*(pi/180.0)**2\n",
      "beamarea=(omega)/(4.0*math.log(2.0))\n",
      "pixelarea=(pixscaledeg*pi/180.0)**2\n",
      "print 'Frequency', freq\n",
      "print 'Beam area', beamarea\n",
      "print 'Pixel area', pixelarea\n",
      "jybm2jy=1.0/beamarea*pixelarea\n",
      "pixelsperbeam=beamarea/pixelarea\n",
      "\n",
      "print 'Pixels per beam area', pixelsperbeam\n",
      "print 'Jy per Beam to Jy per pixel',jybm2jy\n",
      "image=image[::-1][::-1][:][:]*jybm2jy\n",
      "print ra,dec\n",
      "\n",
      "avgbeam=(bmaj+bmin)/2.0*3600.0\n",
      "print 'Average Beam: ', avgbeam,avgbeam/pixscale\n",
      "aperturebase=avgbeam/pixscale/2.0\n",
      "\n",
      "world=np.array([[ra,dec,0,0]  ])\n",
      "pix=w.wcs_world2pix(world, 0)\n",
      "print pix\n",
      "\n",
      "apertures=np.arange(1.0,20.0, dtype=np.float)*aperturebase\n",
      "print apertures\n",
      "xgrid_off=np.arange(npix,dtype=np.float)-npix/2.0\n",
      "ygrid_off=np.arange(npix,dtype=np.float)-npix/2.0\n",
      "\n",
      "ygrid_proj=ygrid_off #/np.cos(inc)\n",
      "#print ygrid_proj\n",
      "\n",
      "xgrid,ygrid=np.meshgrid(xgrid_off,ygrid_proj)\n",
      "\n",
      "r = np.sqrt(xgrid**2 + (ygrid)**2)\n",
      "mask = r < apertures[5]\n",
      "\n",
      "fig=plt.figure(figsize=(7,7))\n",
      "ax = fig.add_subplot(111)\n",
      "plt.pcolormesh(xgrid_off[950:1100],ygrid_proj[950:1100],mask[950:1100,950:1100], cmap='gray_r', vmin=-0.014, vmax=0.1)"
     ],
     "language": "python",
     "metadata": {},
     "outputs": [
      {
       "output_type": "stream",
       "stream": "stderr",
       "text": [
        "WARNING: FITSFixedWarning: PC01_01 = 1.000000000000E+00 \n",
        "indices in parameterized keywords must not have leading zeroes. [astropy.wcs.wcs]\n",
        "WARNING:astropy:FITSFixedWarning: PC01_01 = 1.000000000000E+00 \n",
        "indices in parameterized keywords must not have leading zeroes.\n"
       ]
      },
      {
       "output_type": "stream",
       "stream": "stderr",
       "text": [
        "WARNING: FITSFixedWarning: PC02_01 = 0.000000000000E+00 \n",
        "indices in parameterized keywords must not have leading zeroes. [astropy.wcs.wcs]\n",
        "WARNING:astropy:FITSFixedWarning: PC02_01 = 0.000000000000E+00 \n",
        "indices in parameterized keywords must not have leading zeroes.\n"
       ]
      },
      {
       "output_type": "stream",
       "stream": "stderr",
       "text": [
        "WARNING: FITSFixedWarning: PC03_01 = 0.000000000000E+00 \n",
        "indices in parameterized keywords must not have leading zeroes. [astropy.wcs.wcs]\n",
        "WARNING:astropy:FITSFixedWarning: PC03_01 = 0.000000000000E+00 \n",
        "indices in parameterized keywords must not have leading zeroes.\n"
       ]
      },
      {
       "output_type": "stream",
       "stream": "stderr",
       "text": [
        "WARNING: FITSFixedWarning: PC04_01 = 0.000000000000E+00 \n",
        "indices in parameterized keywords must not have leading zeroes. [astropy.wcs.wcs]\n",
        "WARNING:astropy:FITSFixedWarning: PC04_01 = 0.000000000000E+00 \n",
        "indices in parameterized keywords must not have leading zeroes.\n"
       ]
      },
      {
       "output_type": "stream",
       "stream": "stderr",
       "text": [
        "WARNING: FITSFixedWarning: PC01_02 = 0.000000000000E+00 \n",
        "indices in parameterized keywords must not have leading zeroes. [astropy.wcs.wcs]\n",
        "WARNING:astropy:FITSFixedWarning: PC01_02 = 0.000000000000E+00 \n",
        "indices in parameterized keywords must not have leading zeroes.\n"
       ]
      },
      {
       "output_type": "stream",
       "stream": "stderr",
       "text": [
        "WARNING: FITSFixedWarning: PC02_02 = 1.000000000000E+00 \n",
        "indices in parameterized keywords must not have leading zeroes. [astropy.wcs.wcs]\n",
        "WARNING:astropy:FITSFixedWarning: PC02_02 = 1.000000000000E+00 \n",
        "indices in parameterized keywords must not have leading zeroes.\n"
       ]
      },
      {
       "output_type": "stream",
       "stream": "stderr",
       "text": [
        "WARNING: FITSFixedWarning: PC03_02 = 0.000000000000E+00 \n",
        "indices in parameterized keywords must not have leading zeroes. [astropy.wcs.wcs]\n",
        "WARNING:astropy:FITSFixedWarning: PC03_02 = 0.000000000000E+00 \n",
        "indices in parameterized keywords must not have leading zeroes.\n"
       ]
      },
      {
       "output_type": "stream",
       "stream": "stderr",
       "text": [
        "WARNING: FITSFixedWarning: PC04_02 = 0.000000000000E+00 \n",
        "indices in parameterized keywords must not have leading zeroes. [astropy.wcs.wcs]\n",
        "WARNING:astropy:FITSFixedWarning: PC04_02 = 0.000000000000E+00 \n",
        "indices in parameterized keywords must not have leading zeroes.\n"
       ]
      },
      {
       "output_type": "stream",
       "stream": "stderr",
       "text": [
        "WARNING: FITSFixedWarning: PC01_03 = 0.000000000000E+00 \n",
        "indices in parameterized keywords must not have leading zeroes. [astropy.wcs.wcs]\n",
        "WARNING:astropy:FITSFixedWarning: PC01_03 = 0.000000000000E+00 \n",
        "indices in parameterized keywords must not have leading zeroes.\n"
       ]
      },
      {
       "output_type": "stream",
       "stream": "stderr",
       "text": [
        "WARNING: FITSFixedWarning: PC02_03 = 0.000000000000E+00 \n",
        "indices in parameterized keywords must not have leading zeroes. [astropy.wcs.wcs]\n",
        "WARNING:astropy:FITSFixedWarning: PC02_03 = 0.000000000000E+00 \n",
        "indices in parameterized keywords must not have leading zeroes.\n"
       ]
      },
      {
       "output_type": "stream",
       "stream": "stderr",
       "text": [
        "WARNING: FITSFixedWarning: PC03_03 = 1.000000000000E+00 \n",
        "indices in parameterized keywords must not have leading zeroes. [astropy.wcs.wcs]\n",
        "WARNING:astropy:FITSFixedWarning: PC03_03 = 1.000000000000E+00 \n",
        "indices in parameterized keywords must not have leading zeroes.\n"
       ]
      },
      {
       "output_type": "stream",
       "stream": "stderr",
       "text": [
        "WARNING: FITSFixedWarning: PC04_03 = 0.000000000000E+00 \n",
        "indices in parameterized keywords must not have leading zeroes. [astropy.wcs.wcs]\n",
        "WARNING:astropy:FITSFixedWarning: PC04_03 = 0.000000000000E+00 \n",
        "indices in parameterized keywords must not have leading zeroes.\n"
       ]
      },
      {
       "output_type": "stream",
       "stream": "stderr",
       "text": [
        "WARNING: FITSFixedWarning: PC01_04 = 0.000000000000E+00 \n",
        "indices in parameterized keywords must not have leading zeroes. [astropy.wcs.wcs]\n",
        "WARNING:astropy:FITSFixedWarning: PC01_04 = 0.000000000000E+00 \n",
        "indices in parameterized keywords must not have leading zeroes.\n"
       ]
      },
      {
       "output_type": "stream",
       "stream": "stderr",
       "text": [
        "WARNING: FITSFixedWarning: PC02_04 = 0.000000000000E+00 \n",
        "indices in parameterized keywords must not have leading zeroes. [astropy.wcs.wcs]\n",
        "WARNING:astropy:FITSFixedWarning: PC02_04 = 0.000000000000E+00 \n",
        "indices in parameterized keywords must not have leading zeroes.\n"
       ]
      },
      {
       "output_type": "stream",
       "stream": "stderr",
       "text": [
        "WARNING: FITSFixedWarning: PC03_04 = 0.000000000000E+00 \n",
        "indices in parameterized keywords must not have leading zeroes. [astropy.wcs.wcs]\n",
        "WARNING:astropy:FITSFixedWarning: PC03_04 = 0.000000000000E+00 \n",
        "indices in parameterized keywords must not have leading zeroes.\n"
       ]
      },
      {
       "output_type": "stream",
       "stream": "stderr",
       "text": [
        "WARNING: FITSFixedWarning: PC04_04 = 1.000000000000E+00 \n",
        "indices in parameterized keywords must not have leading zeroes. [astropy.wcs.wcs]\n",
        "WARNING:astropy:FITSFixedWarning: PC04_04 = 1.000000000000E+00 \n",
        "indices in parameterized keywords must not have leading zeroes.\n"
       ]
      },
      {
       "output_type": "stream",
       "stream": "stdout",
       "text": [
        "Frequency 2.32528889884e+11\n",
        "Beam area 1.18530404814e-12\n",
        "Pixel area 1.46902442703e-14\n",
        "Pixels per beam area 80.6864764355\n",
        "Jy per Beam to Jy per pixel 0.0123936506361\n",
        "51.40133334 30.754147222\n",
        "Average Beam:  0.217465497553 8.69861990213\n",
        "[[  1.02399917e+03   1.02399997e+03  -1.16264447e+02  -1.00000000e+00]]\n",
        "[  4.34930995   8.6986199   13.04792985  17.3972398   21.74654976\n",
        "  26.09585971  30.44516966  34.79447961  39.14378956  43.49309951\n",
        "  47.84240946  52.19171941  56.54102936  60.89033931  65.23964927\n",
        "  69.58895922  73.93826917  78.28757912  82.63688907]\n"
       ]
      },
      {
       "metadata": {},
       "output_type": "pyout",
       "prompt_number": 1,
       "text": [
        "<matplotlib.collections.QuadMesh at 0x7f840ac3ed10>"
       ]
      },
      {
       "metadata": {},
       "output_type": "display_data",
       "png": "[encoded data removed]",
       "text": [
        "<matplotlib.figure.Figure at 0x7f840ac09290>"
       ]
      }
     ],
     "prompt_number": 1
    },
    {
     "cell_type": "code",
     "collapsed": false,
     "input": [
      "xcen=pix[0][0]\n",
      "ycen=pix[0][1]\n",
      "\n",
      "print pa\n",
      "\n",
      "xgrid_rot= (xgrid * np.cos(pa) - ygrid * np.sin(pa)) # disk major axis\n",
      "ygrid_rot= (xgrid * np.sin(pa) + ygrid * np.cos(pa)) # disk minor axis\n",
      "\n",
      "#print xgrid_rot.shape\n",
      "#print ygrid_rot.shape\n",
      "#print xgrid_rot[1000:1050,1000:1050]\n",
      "#print ygrid_rot[1000:1050,1000:1050]\n",
      "\n",
      "\n",
      "r = np.sqrt(xgrid_rot**2 + (ygrid_rot/np.cos(inc))**2)\n",
      "mask = r > apertures[5]\n",
      "\n",
      "fig=plt.figure(figsize=(7,7))\n",
      "ax = fig.add_subplot(111)\n",
      "plt.pcolormesh(xgrid_off[950:1100],ygrid_off[950:1100],mask[950:1100,950:1100], cmap='gray_r', vmin=-0.014, vmax=0.1)\n",
      "\n",
      "mask = r > apertures[10]\n",
      "\n",
      "fig=plt.figure(figsize=(7,7))\n",
      "ax = fig.add_subplot(111)\n",
      "\n",
      "print image.shape\n",
      "print mask.shape\n",
      "maskedimage=np.ma.MaskedArray(image[0,0,:,:], mask=mask)\n",
      "print maskedimage.shape\n",
      "plt.pcolormesh(xgrid_off[950:1100],ygrid_off[950:1100],maskedimage[950:1100,950:1100]/jybm2jy, cmap='gray_r', vmin=-0.0014, vmax=0.01)\n",
      "\n",
      "#ymin=int(round(ycen-apertures)+1)\n",
      "#ymax=int(round(ycen+apertures)+1)\n",
      "#xmin=int(round(xcen-apertures)+1)\n",
      "#xmax=int(round(xcen+apertures)+1)\n",
      "#print xmin,xmax,ymin,ymax"
     ],
     "language": "python",
     "metadata": {},
     "outputs": [
      {
       "output_type": "stream",
       "stream": "stdout",
       "text": [
        "1.13446305556\n",
        "(1, 1, 2048, 2048)"
       ]
      },
      {
       "output_type": "stream",
       "stream": "stdout",
       "text": [
        "\n",
        "(2048, 2048)\n",
        "(2048, 2048)\n"
       ]
      },
      {
       "metadata": {},
       "output_type": "pyout",
       "prompt_number": 2,
       "text": [
        "<matplotlib.collections.QuadMesh at 0x7f840b47f710>"
       ]
      },
      {
       "metadata": {},
       "output_type": "display_data",
       "png": "[encoded data removed]",
       "text": [
        "<matplotlib.figure.Figure at 0x7f8408f69650>"
       ]
      },
      {
       "metadata": {},
       "output_type": "display_data",
       "png": "[encoded data removed]",
       "text": [
        "<matplotlib.figure.Figure at 0x7f840b573250>"
       ]
      }
     ],
     "prompt_number": 2
    },
    {
     "cell_type": "code",
     "collapsed": false,
     "input": [
      "aper_fluxes=np.zeros(len(apertures))\n",
      "error_aper_fluxes=np.zeros(len(apertures))\n",
      "diff_aper_fluxes=np.zeros(len(apertures))\n",
      "error_diff_aper_fluxes=np.zeros(len(apertures))\n",
      "diff_area=np.zeros(len(apertures))\n",
      "\n",
      "for i in range(len(apertures)):\n",
      "    mask = r > apertures[i]\n",
      "    maskinverse=r<apertures[i]\n",
      "    #fig=plt.figure(figsize=(7,7))\n",
      "    #ax = fig.add_subplot(111)\n",
      "    maskedimage=np.ma.MaskedArray(image[0,0,:,:], mask=mask)\n",
      "    #plt.pcolormesh(xgrid_off[950:1100],ygrid_off[950:1100],maskedimage[950:1100,950:1100]/jybm2jy, cmap='gray_r', vmin=-0.0014, vmax=0.01)\n",
      "    aper_fluxes[i]=np.sum(maskedimage)\n",
      "    npixels=np.sum(maskinverse)\n",
      "    error_aper_fluxes[i]=npixels/pixelsperbeam*rms\n",
      "    if i == 0:\n",
      "        diff_aper_fluxes[i]=aper_fluxes[i].copy()\n",
      "        error_diff_aper_fluxes[i]=error_aper_fluxes[i].copy()\n",
      "        diff_area[i]=(apertures[i]*pixscale*230.0)**2*3.14159\n",
      "    elif i > 0:\n",
      "        diff_aper_fluxes[i]=aper_fluxes[i]-aper_fluxes[i-1]\n",
      "        error_diff_aper_fluxes[i]=(error_aper_fluxes[i]**2+error_aper_fluxes[i-1]**2)**0.5\n",
      "        diff_area[i]=(apertures[i]*pixscale*230.0)**2*3.14159 -(apertures[i-1]*pixscale*230.0)**2*3.14159\n",
      "\n",
      "        print apertures[i], aper_fluxes[i],error_aper_fluxes[i], diff_aper_fluxes[i],error_diff_aper_fluxes[i]\n",
      "\n",
      "    "
     ],
     "language": "python",
     "metadata": {},
     "outputs": [
      {
       "output_type": "stream",
       "stream": "stdout",
       "text": [
        "8.69861990213 0.0333426892757 0.00029323377405 0.0237424736843 0.000302576709352\n",
        "13.0479298532 0.0647607371211 0.000654136880574 0.0314180478454 0.000716855009588\n",
        "17.3972398043 0.0991442725062 0.00116772976293 0.0343835353851 0.00133846473908\n",
        "21.7465497553"
       ]
      },
      {
       "output_type": "stream",
       "stream": "stdout",
       "text": [
        " 0.134870707989 0.00181319108806 0.0357264354825 0.00215667677714\n",
        "26.0958597064 0.177629396319 0.00261828263338 0.0427586883307 0.00318481802779\n",
        "30.4451696575 0.226253524423 0.00358647462108 0.0486241281033 0.00444051845576\n",
        "34.7944796085"
       ]
      },
      {
       "output_type": "stream",
       "stream": "stdout",
       "text": [
        " 0.272097110748 0.00465530305194 0.0458435863256 0.00587661864621\n",
        "39.1437895596 0.316792815924 0.00590805325823 0.0446957051754 0.00752176440787\n",
        "43.4930995107 0.359422624111 0.00728226124077 0.0426298081875 0.00937744219289\n",
        "47.8424094617"
       ]
      },
      {
       "output_type": "stream",
       "stream": "stdout",
       "text": [
        " 0.399960696697 0.00881956966567 0.0405380725861 0.0114374882674\n",
        "52.1917194128 0.434784293175 0.0104991571999 0.0348235964775 0.0137119331604\n",
        "56.5410293639 0.462327897549 0.0123279642877 0.0275436043739 0.0161929307226\n",
        "60.8903393149"
       ]
      },
      {
       "output_type": "stream",
       "stream": "stdout",
       "text": [
        " 0.482392072678 0.0142990504849 0.0200641751289 0.0188796596434\n",
        "65.239649266 0.497410833836 0.0164158860136 0.015018761158 0.021770258574\n",
        "69.5889592171 0.50925385952 0.0186819410959 0.0118430256844 0.0248695845707\n",
        "73.9382691681"
       ]
      },
      {
       "output_type": "stream",
       "stream": "stdout",
       "text": [
        " 0.518478929996 0.0210659837322 0.00922507047653 0.0281565373176\n",
        "78.2875791192 0.525112748146 0.023613126811 0.00663381814957 0.0316442005492\n",
        "82.6368890703 0.529810905457 0.0263268405542 0.00469815731049 0.0353649867999\n"
       ]
      }
     ],
     "prompt_number": 3
    },
    {
     "cell_type": "code",
     "collapsed": false,
     "input": [
      "fig=plt.figure(figsize=(10,7))\n",
      "ax = fig.add_subplot(111)\n",
      "ax.set_xlim(0,1000.0)\n",
      "#ax.set_ylim(-0.001,0.01)\n",
      "\n",
      "radii=apertures*pixscale*230.0\n",
      "lin1=ax.plot(radii,diff_aper_fluxes,marker='o',color='black',linestyle='none')\n",
      "lin1err=ax.errorbar(radii,diff_aper_fluxes, yerr=error_diff_aper_fluxes, fmt='o',color='black')\n",
      "\n",
      "ax.set_title('Intensity Profile', fontsize=18)\n",
      "ax.set_ylabel('Flux Density (Jy)', fontsize=18)\n",
      "ax.set_xlabel('Radius (AU))', fontsize=18)\n"
     ],
     "language": "python",
     "metadata": {},
     "outputs": [
      {
       "metadata": {},
       "output_type": "pyout",
       "prompt_number": 4,
       "text": [
        "<matplotlib.text.Text at 0x7f8428477390>"
       ]
      },
      {
       "metadata": {},
       "output_type": "display_data",
       "png": "[encoded data removed]",
       "text": [
        "<matplotlib.figure.Figure at 0x7f842843e790>"
       ]
      }
     ],
     "prompt_number": 4
    },
    {
     "cell_type": "code",
     "collapsed": false,
     "input": [
      "temp=(radii/1.0)**(-0.4)*200.0\n",
      "print radii,temp\n",
      "\n",
      "def emissive_mass(flux=None,lam=None,lam0=None,beta=None,kappa0=None,distance=None,temp=None):\n",
      "    #temp=30.0\n",
      "    kb=1.36e-16\n",
      "    dgr=100.0\n",
      "    flux=flux*1.0e-23\n",
      "    nu=3.0e11/lam\n",
      "    #print nu/1.0e9, 'GHz'\n",
      "    #kappa0=3.5\n",
      "    kappa=kappa0*(lam0/lam)**beta\n",
      "    #print kappa, ' at ',lam,' mm'\n",
      "    distance=distance*3.09e18\n",
      "    mass=distance**2*flux*3e10**2/(2.0*kappa*kb*nu**2*temp)*dgr\n",
      "\n",
      "    return mass\n",
      "\n",
      "diff_percent_errors=error_diff_aper_fluxes/diff_aper_fluxes\n",
      "percent_errors=error_aper_fluxes/aper_fluxes\n",
      "mass_vs_r=emissive_mass(diff_aper_fluxes,1.3,1.3,1.0,0.899,230.0,temp)\n",
      "total_mass_vs_r=emissive_mass(aper_fluxes,1.3,1.3,1.0,0.899,230.0,temp)\n",
      "\n",
      "print mass_vs_r\n",
      "\n",
      "sigma=mass_vs_r/(diff_area*1.496e13**2)\n",
      "#sigma=mass_vs_r/(((apertures*pixscale*230.0*1.496e13)**2)*3.14159)\n",
      "sigma2=total_mass_vs_r/(((apertures*pixscale*230.0*1.496e13)**2)*3.14159)\n",
      "print sigma,sigma2"
     ],
     "language": "python",
     "metadata": {},
     "outputs": [
      {
       "output_type": "stream",
       "stream": "stdout",
       "text": [
        "[  25.00853222   50.01706444   75.02559666  100.03412887  125.04266109\n",
        "  150.05119331  175.05972553  200.06825775  225.07678997  250.08532219\n",
        "  275.0938544   300.10238662  325.11091884  350.11945106  375.12798328\n",
        "  400.1365155   425.14504772  450.15357994  475.16211215] [ 55.18165408  41.81987363  35.55872762  31.69353763  28.98722975\n",
        "  26.94847627  25.33701791  24.01921002  22.91383126  21.96821217\n",
        "  21.1464583   20.42312596  19.77959402  19.20186889  18.67919736\n",
        "  18.20315727  17.76704269  17.36543682  16.99390844]\n",
        "[  6.07319200e+30   1.98186464e+31   3.08435050e+31   3.78713295e+31\n",
        "   4.30242903e+31   5.53886653e+31   6.69926363e+31   6.66270531e+31\n",
        "   6.80924284e+31   6.77406569e+31   6.69200405e+31   5.95226346e+31\n",
        "   4.86109533e+31   3.64761128e+31   2.80676880e+31   2.27115456e+31\n",
        "   1.81253035e+31   1.33354781e+31   9.65083788e+30]\n",
        "[ 13.81108862  15.02324102  14.02828629  12.30335095  10.87131566\n",
        "  11.45088664  11.71910962  10.10113666   9.10879236   8.10786864\n",
        "   7.24682546   5.88525399   4.42186042   3.07224387   2.20099747\n",
        "   1.66608017   1.24905697   0.86646584   0.5931632 ] [ 13.81108862  15.82339094  16.06440712  15.52095966  14.77449197\n",
        "  14.53515828  14.46723097  14.05163555  13.54984213  12.98830076\n",
        "  12.40897604  11.73628856  10.97962892  10.17518306   9.39541898\n",
        "   8.6753955    8.01603794   7.40906628   6.85586185]\n"
       ]
      }
     ],
     "prompt_number": 5
    },
    {
     "cell_type": "code",
     "collapsed": false,
     "input": [
      "fig=plt.figure(figsize=(10,7))\n",
      "ax = fig.add_subplot(111)\n",
      "ax.set_xlim(10,1000.0)\n",
      "#ax.set_ylim(-0.001,0.01)\n",
      "\n",
      "radii=apertures*pixscale*230.0\n",
      "lin1=ax.loglog(radii,sigma,marker='o',color='black',linestyle='none')\n",
      "#lin1err=ax.errorbar(radii,sigma, yerr=sigma*diff_percent_errors, fmt='o',color='black')\n",
      "#lin1=ax.plot(radii,sigma2,marker='o',color='black',linestyle='none')\n",
      "#lin1err=ax.errorbar(radii,sigma2, yerr=sigma2*percent_errors, fmt='o',color='black')\n",
      "ax.tick_params('both', which='major', length=15, width=1, pad=15)\n",
      "ax.tick_params('both', which='minor', length=7.5, width=1, pad=15)\n",
      "\n",
      "ticks_font = mpl.font_manager.FontProperties(size=16, weight='normal', stretch='normal')\n",
      "for label in (ax.get_xticklabels() + ax.get_yticklabels()):\n",
      "            label.set_fontproperties(ticks_font)\n",
      "\n",
      "for axis in [ax.xaxis, ax.yaxis]:\n",
      "    axis.set_major_formatter(ScalarFormatter())\n",
      "    ax.yaxis.set_major_formatter(ticker.FuncFormatter(lambda y,pos: ('{{:.{:1d}f}}'.format(int(np.maximum(-np.log10(y),0)))).format(y)))\n",
      "for axis in ['top','bottom','left','right']:\n",
      "   ax.spines[axis].set_linewidth(2)\n",
      "\n",
      "ax.set_title('Surface Density Profile', fontsize=18)\n",
      "ax.set_ylabel('$\\Sigma$  (g cm$^{-2}$)', fontsize=18)\n",
      "ax.set_xlabel('Radius (AU))', fontsize=18)\n",
      "plt.savefig('Per33-surface-density-loglog.eps')\n"
     ],
     "language": "python",
     "metadata": {},
     "outputs": [
      {
       "metadata": {},
       "output_type": "display_data",
       "png": "[encoded data removed]",
       "text": [
        "<matplotlib.figure.Figure at 0x7f8409a42910>"
       ]
      }
     ],
     "prompt_number": 6
    },
    {
     "cell_type": "code",
     "collapsed": false,
     "input": [
      "fig=plt.figure(figsize=(10,7))\n",
      "ax = fig.add_subplot(111)\n",
      "ax.set_xlim(10,1000.0)\n",
      "#ax.set_ylim(-0.001,0.01)\n",
      "\n",
      "#radii=apertures*pixscale*230.0\n",
      "lin1=ax.plot(radii,sigma,marker='o',color='black',linestyle='none')\n",
      "lin1err=ax.errorbar(radii,sigma, yerr=sigma*diff_percent_errors, fmt='o',color='black')\n",
      "#lin1=ax.plot(radii,sigma2,marker='o',color='black',linestyle='none')\n",
      "#lin1err=ax.errorbar(radii,sigma2, yerr=sigma2*percent_errors, fmt='o',color='black')\n",
      "ax.tick_params('both', which='major', length=15, width=1, pad=15)\n",
      "ax.tick_params('both', which='minor', length=7.5, width=1, pad=15)\n",
      "\n",
      "ticks_font = mpl.font_manager.FontProperties(size=16, weight='normal', stretch='normal')\n",
      "for label in (ax.get_xticklabels() + ax.get_yticklabels()):\n",
      "            label.set_fontproperties(ticks_font)\n",
      "\n",
      "#for axis in [ax.xaxis, ax.yaxis]:\n",
      "#    axis.set_major_formatter(ScalarFormatter())\n",
      "#    ax.yaxis.set_major_formatter(ticker.FuncFormatter(lambda y,pos: ('{{:.{:1d}f}}'.format(int(np.maximum(-np.log10(y),0)))).format(y)))\n",
      "for axis in ['top','bottom','left','right']:\n",
      "   ax.spines[axis].set_linewidth(2)\n",
      "\n",
      "ax.set_title('Surface Density Profile', fontsize=18)\n",
      "ax.set_ylabel('$\\Sigma$  (g cm$^{-2}$)', fontsize=18)\n",
      "ax.set_xlabel('Radius (AU))', fontsize=18)\n",
      "plt.savefig('Per33-surface-density-linear.eps')\n"
     ],
     "language": "python",
     "metadata": {},
     "outputs": [
      {
       "metadata": {},
       "output_type": "display_data",
       "png": "[encoded data removed]",
       "text": [
        "<matplotlib.figure.Figure at 0x7f8407479b10>"
       ]
      }
     ],
     "prompt_number": 7
    },
    {
     "cell_type": "code",
     "collapsed": false,
     "input": [],
     "language": "python",
     "metadata": {},
     "outputs": [],
     "prompt_number": 7
    }
   ],
   "metadata": {}
  }
 ]
}